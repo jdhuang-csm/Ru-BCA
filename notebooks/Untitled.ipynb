{
 "cells": [
  {
   "cell_type": "code",
   "execution_count": null,
   "metadata": {},
   "outputs": [],
   "source": [
    "import sys\n",
    "import os\n",
    "import numpy as np\n",
    "import pandas as pd\n",
    "import pymatgen as mg\n",
    "import matplotlib.pyplot as plt\n",
    "%matplotlib notebook\n",
    "# from mpl_toolkits.mplot3d import Axes3D\n",
    "# from mpl_toolkits.axes_grid1 import make_axes_locatable\n",
    "from matplotlib.ticker import MultipleLocator\n",
    "import ternary\n",
    "import seaborn as sn\n",
    "import re\n",
    "\n",
    "from sklearn.preprocessing import RobustScaler\n",
    "from sklearn.model_selection import train_test_split\n",
    "from sklearn.ensemble import RandomForestRegressor\n",
    "from sklearn.pipeline import Pipeline\n",
    "from sklearn.metrics import mean_absolute_error\n",
    "\n",
    "from mlxtend.feature_selection import SequentialFeatureSelector as SFS\n",
    "\n",
    "# add modules\n",
    "module_dir = '../modules'\n",
    "if module_dir not in sys.path:\n",
    "    sys.path.append(module_dir)\n",
    "    \n",
    "#imports from ../modules\n",
    "from pickle_tools import save_pickle, load_pickle\n",
    "import model_eval as mv\n",
    "import feature_select as fs\n",
    "import file_load as fl\n",
    "from BCA_featurizer import BCA_Featurizer, GenericFeaturizer\n",
    "from bca_plotting import get_coords_from_comp, add_colorbar, plot_labeled_ternary, featurize_simplex, \\\n",
    "    estimator_ternary_heatmap, scatter_over_heatmap, draw_guidelines\n",
    "\n",
    "# # add alepython directory\n",
    "# ale_dir = 'c:\\\\users\\\\jdhuang\\\\onedrive - colorado school of mines\\\\python\\\\cloned_repos\\\\ALEpython'\n",
    "# if ale_dir not in sys.path:\n",
    "#     sys.path.append(ale_dir)\n",
    "# from alepython import ale\n",
    "\n",
    "%load_ext autoreload\n",
    "%autoreload 2"
   ]
  }
 ],
 "metadata": {
  "kernelspec": {
   "display_name": "Python 3",
   "language": "python",
   "name": "python3"
  },
  "language_info": {
   "codemirror_mode": {
    "name": "ipython",
    "version": 3
   },
   "file_extension": ".py",
   "mimetype": "text/x-python",
   "name": "python",
   "nbconvert_exporter": "python",
   "pygments_lexer": "ipython3",
   "version": "3.7.4"
  }
 },
 "nbformat": 4,
 "nbformat_minor": 2
}
